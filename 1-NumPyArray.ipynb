{
 "cells": [
  {
   "cell_type": "code",
   "execution_count": 21,
   "id": "d80abdda-6f6a-4f08-ad67-1f756b02ab0b",
   "metadata": {},
   "outputs": [
    {
     "name": "stdout",
     "output_type": "stream",
     "text": [
      "[[ 5 10 15]\n",
      " [20 25 30]\n",
      " [35 40 45]\n",
      " [50 55 60]]\n"
     ]
    }
   ],
   "source": [
    "#import numpy package\n",
    "import numpy as np\n",
    "\n",
    "#Creating array using arange() function\n",
    "arr=np.arange(5,61,5)\n",
    "\n",
    "#reshaping array for 2D \n",
    "arr=arr.reshape(4,3)\n",
    "\n",
    "#printing array\n",
    "print(arr)\n"
   ]
  }
 ],
 "metadata": {
  "kernelspec": {
   "display_name": "Python 3 (ipykernel)",
   "language": "python",
   "name": "python3"
  },
  "language_info": {
   "codemirror_mode": {
    "name": "ipython",
    "version": 3
   },
   "file_extension": ".py",
   "mimetype": "text/x-python",
   "name": "python",
   "nbconvert_exporter": "python",
   "pygments_lexer": "ipython3",
   "version": "3.12.7"
  }
 },
 "nbformat": 4,
 "nbformat_minor": 5
}
