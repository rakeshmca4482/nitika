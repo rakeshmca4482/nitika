{
 "cells": [
  {
   "cell_type": "code",
   "execution_count": 16,
   "id": "c0f37e83-db10-494d-b229-0821b02825a4",
   "metadata": {},
   "outputs": [
    {
     "name": "stdout",
     "output_type": "stream",
     "text": [
      "Size Of Image\n",
      "(666, 740)\n",
      "----------------------------------------\n",
      "Pixels Of Image\n",
      "0\n",
      "255\n"
     ]
    }
   ],
   "source": [
    "import cv2\n",
    "img = cv2.imread('octopus.png',0) \n",
    "print(\"Size Of Image\")\n",
    "print(img.shape)\n",
    "\n",
    "print(\"--\"*20)\n",
    "\n",
    "print(\"Pixels Of Image\")\n",
    "print(img.min())\n",
    "print(img.max())"
   ]
  }
 ],
 "metadata": {
  "kernelspec": {
   "display_name": "Python 3 (ipykernel)",
   "language": "python",
   "name": "python3"
  },
  "language_info": {
   "codemirror_mode": {
    "name": "ipython",
    "version": 3
   },
   "file_extension": ".py",
   "mimetype": "text/x-python",
   "name": "python",
   "nbconvert_exporter": "python",
   "pygments_lexer": "ipython3",
   "version": "3.12.7"
  }
 },
 "nbformat": 4,
 "nbformat_minor": 5
}
