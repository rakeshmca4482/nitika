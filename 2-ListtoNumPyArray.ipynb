{
 "cells": [
  {
   "cell_type": "code",
   "execution_count": 3,
   "id": "89a547c3-9104-490e-b5b2-1ac3b0f91793",
   "metadata": {},
   "outputs": [
    {
     "name": "stdin",
     "output_type": "stream",
     "text": [
      "Enter the no. of elements: 5\n",
      "Enter value 1: 5\n",
      "Enter value 2: 6\n",
      "Enter value 3: 7\n",
      "Enter value 4: 8\n",
      "Enter value 5: 9\n"
     ]
    },
    {
     "name": "stdout",
     "output_type": "stream",
     "text": [
      "NumPy Array: [5 6 7 8 9]\n"
     ]
    }
   ],
   "source": [
    "#Import NumPy Package\n",
    "import numpy as np\n",
    "\n",
    "#Creating empty list\n",
    "l = []\n",
    "\n",
    "#Take input for n no. of elements\n",
    "n=int(input(\"Enter the no. of elements:\"))\n",
    "\n",
    "#Append the values into the list\n",
    "for i in range(n):\n",
    " val=int(input(\"Enter value \"+str(i+1)+\":\"))\n",
    " l.append(val)\n",
    "\n",
    "#Converting list into numpy array\n",
    "arr=np.array(l)\n",
    "print(\"NumPy Array:\",arr)"
   ]
  }
 ],
 "metadata": {
  "kernelspec": {
   "display_name": "Python 3 (ipykernel)",
   "language": "python",
   "name": "python3"
  },
  "language_info": {
   "codemirror_mode": {
    "name": "ipython",
    "version": 3
   },
   "file_extension": ".py",
   "mimetype": "text/x-python",
   "name": "python",
   "nbconvert_exporter": "python",
   "pygments_lexer": "ipython3",
   "version": "3.12.7"
  }
 },
 "nbformat": 4,
 "nbformat_minor": 5
}
