{
 "cells": [
  {
   "cell_type": "code",
   "execution_count": 1,
   "id": "82aee959-2d85-4dc0-9e9d-5adb4fb5c4e6",
   "metadata": {},
   "outputs": [
    {
     "name": "stdout",
     "output_type": "stream",
     "text": [
      "[[11 13 15]\n",
      " [17 19 21]\n",
      " [23 25 27]]\n"
     ]
    }
   ],
   "source": [
    "#import numpy package\n",
    "import numpy as np\n",
    "\n",
    "#Creating array using arange() function with values from 11 to 28\n",
    "arr=np.arange(11,28,2)\n",
    "\n",
    "#reshaping array for 2D \n",
    "arr=arr.reshape(3,3)\n",
    "\n",
    "#printing array\n",
    "print(arr)\n"
   ]
  }
 ],
 "metadata": {
  "kernelspec": {
   "display_name": "Python 3 (ipykernel)",
   "language": "python",
   "name": "python3"
  },
  "language_info": {
   "codemirror_mode": {
    "name": "ipython",
    "version": 3
   },
   "file_extension": ".py",
   "mimetype": "text/x-python",
   "name": "python",
   "nbconvert_exporter": "python",
   "pygments_lexer": "ipython3",
   "version": "3.12.7"
  }
 },
 "nbformat": 4,
 "nbformat_minor": 5
}
