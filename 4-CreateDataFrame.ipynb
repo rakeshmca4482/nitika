{
 "cells": [
  {
   "cell_type": "code",
   "execution_count": 5,
   "id": "695880a9-b152-44f1-bfb0-96a11af899d5",
   "metadata": {},
   "outputs": [
    {
     "name": "stdout",
     "output_type": "stream",
     "text": [
      "Defaulting to user installation because normal site-packages is not writeable\n",
      "Requirement already satisfied: pandas in c:\\programdata\\anaconda3\\lib\\site-packages (2.2.2)\n",
      "Requirement already satisfied: numpy>=1.26.0 in c:\\programdata\\anaconda3\\lib\\site-packages (from pandas) (1.26.4)\n",
      "Requirement already satisfied: python-dateutil>=2.8.2 in c:\\programdata\\anaconda3\\lib\\site-packages (from pandas) (2.9.0.post0)\n",
      "Requirement already satisfied: pytz>=2020.1 in c:\\programdata\\anaconda3\\lib\\site-packages (from pandas) (2024.1)\n",
      "Requirement already satisfied: tzdata>=2022.7 in c:\\programdata\\anaconda3\\lib\\site-packages (from pandas) (2023.3)\n",
      "Requirement already satisfied: six>=1.5 in c:\\programdata\\anaconda3\\lib\\site-packages (from python-dateutil>=2.8.2->pandas) (1.16.0)\n"
     ]
    }
   ],
   "source": [
    "! pip install pandas\n"
   ]
  },
  {
   "cell_type": "code",
   "execution_count": 7,
   "id": "76c83fb5-d0ef-4654-be8f-f6f3822d06f9",
   "metadata": {},
   "outputs": [
    {
     "name": "stdout",
     "output_type": "stream",
     "text": [
      "        Name  Score  Attempts Qualified\n",
      "C001    Anil     25         1       Yes\n",
      "C002  Bhavna     20         2        No\n",
      "C003  Chirag     22         2       Yes\n",
      "C004   Dhara     23         1       Yes\n",
      "C005    Giri     21         1        No\n"
     ]
    }
   ],
   "source": [
    "#import pandas package\n",
    "import pandas as pd\n",
    "\n",
    "#Creating Dictionary to store data\n",
    "d={'Name':['Anil','Bhavna','Chirag','Dhara','Giri'],\n",
    " 'Score':[25,20,22,23,21],\n",
    " 'Attempts':[1,2,2,1,1],\n",
    " 'Qualified':['Yes','No','Yes','Yes','No']}\n",
    "\n",
    "#Creating a dataframe\n",
    "df=pd.DataFrame(d,index=['C001','C002','C003','C004','C005'])\n",
    "\n",
    "#Printing a dataframe\n",
    "print(df)"
   ]
  }
 ],
 "metadata": {
  "kernelspec": {
   "display_name": "Python 3 (ipykernel)",
   "language": "python",
   "name": "python3"
  },
  "language_info": {
   "codemirror_mode": {
    "name": "ipython",
    "version": 3
   },
   "file_extension": ".py",
   "mimetype": "text/x-python",
   "name": "python",
   "nbconvert_exporter": "python",
   "pygments_lexer": "ipython3",
   "version": "3.12.7"
  }
 },
 "nbformat": 4,
 "nbformat_minor": 5
}
