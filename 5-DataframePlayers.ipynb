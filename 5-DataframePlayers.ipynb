{
 "cells": [
  {
   "cell_type": "code",
   "execution_count": 3,
   "id": "ed954238-0874-4767-9d8c-aa2b72542e0e",
   "metadata": {},
   "outputs": [
    {
     "name": "stdout",
     "output_type": "stream",
     "text": [
      "                 Team  Matches  Runs  Average\n",
      "Virat kohli     India       25  1120    44.80\n",
      "Babar Azam   Pakistan       23  1087    47.26\n",
      "Ben Stokes    England       19   954    50.21\n"
     ]
    }
   ],
   "source": [
    "#import pandas package\n",
    "import pandas as pd\n",
    "\n",
    "#Creating Dictionary to store data\n",
    "d={\n",
    " 'Team':['India','Pakistan','England','Asutralia'],\n",
    " 'Matches':[25,23,19,17],\n",
    " 'Runs':[1120,1087,954,830],\n",
    " 'Average':[44.80,47.26,50.21,48.82]\n",
    "  }\n",
    "\n",
    "#Creating a dataframe\n",
    "player=pd.DataFrame(d,index=['Virat kohli','Babar Azam','Ben Stokes','Steve Smith'])\n",
    "\n",
    "#Displaying data whose runs > 1000\n",
    "print(player[player['Runs']>900])\n"
   ]
  }
 ],
 "metadata": {
  "kernelspec": {
   "display_name": "Python 3 (ipykernel)",
   "language": "python",
   "name": "python3"
  },
  "language_info": {
   "codemirror_mode": {
    "name": "ipython",
    "version": 3
   },
   "file_extension": ".py",
   "mimetype": "text/x-python",
   "name": "python",
   "nbconvert_exporter": "python",
   "pygments_lexer": "ipython3",
   "version": "3.12.7"
  }
 },
 "nbformat": 4,
 "nbformat_minor": 5
}
